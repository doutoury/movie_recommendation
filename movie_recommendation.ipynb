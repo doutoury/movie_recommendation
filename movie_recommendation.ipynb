{
 "metadata": {
  "language_info": {
   "codemirror_mode": {
    "name": "ipython",
    "version": 3
   },
   "file_extension": ".py",
   "mimetype": "text/x-python",
   "name": "python",
   "nbconvert_exporter": "python",
   "pygments_lexer": "ipython3",
   "version": "3.7.9-final"
  },
  "orig_nbformat": 2,
  "kernelspec": {
   "name": "python3",
   "display_name": "Python 3",
   "language": "python"
  }
 },
 "nbformat": 4,
 "nbformat_minor": 2,
 "cells": [
  {
   "source": [
    "<br>\n",
    "\n",
    "## 데이터 준비와 전처리\n",
    "\n",
    "<br>"
   ],
   "cell_type": "markdown",
   "metadata": {}
  },
  {
   "cell_type": "code",
   "execution_count": 31,
   "metadata": {},
   "outputs": [
    {
     "output_type": "execute_result",
     "data": {
      "text/plain": [
       "   user_id  movie_id  rating  timestamp\n",
       "0        1      1193       5  978300760\n",
       "1        1       661       3  978302109\n",
       "2        1       914       3  978301968\n",
       "3        1      3408       4  978300275\n",
       "4        1      2355       5  978824291"
      ],
      "text/html": "<div>\n<style scoped>\n    .dataframe tbody tr th:only-of-type {\n        vertical-align: middle;\n    }\n\n    .dataframe tbody tr th {\n        vertical-align: top;\n    }\n\n    .dataframe thead th {\n        text-align: right;\n    }\n</style>\n<table border=\"1\" class=\"dataframe\">\n  <thead>\n    <tr style=\"text-align: right;\">\n      <th></th>\n      <th>user_id</th>\n      <th>movie_id</th>\n      <th>rating</th>\n      <th>timestamp</th>\n    </tr>\n  </thead>\n  <tbody>\n    <tr>\n      <th>0</th>\n      <td>1</td>\n      <td>1193</td>\n      <td>5</td>\n      <td>978300760</td>\n    </tr>\n    <tr>\n      <th>1</th>\n      <td>1</td>\n      <td>661</td>\n      <td>3</td>\n      <td>978302109</td>\n    </tr>\n    <tr>\n      <th>2</th>\n      <td>1</td>\n      <td>914</td>\n      <td>3</td>\n      <td>978301968</td>\n    </tr>\n    <tr>\n      <th>3</th>\n      <td>1</td>\n      <td>3408</td>\n      <td>4</td>\n      <td>978300275</td>\n    </tr>\n    <tr>\n      <th>4</th>\n      <td>1</td>\n      <td>2355</td>\n      <td>5</td>\n      <td>978824291</td>\n    </tr>\n  </tbody>\n</table>\n</div>"
     },
     "metadata": {},
     "execution_count": 31
    }
   ],
   "source": [
    "\"\"\"\n",
    "pandas 로 ratings 데이터 불러오기\n",
    "\"\"\"\n",
    "\n",
    "import pandas as pd\n",
    "import os\n",
    "\n",
    "rating_file_path=os.getenv('HOME') + '/aiffel/recommendata_iu/data/ml-1m/ratings.dat'\n",
    "ratings_cols = ['user_id', 'movie_id', 'rating', 'timestamp']\n",
    "ratings = pd.read_csv(rating_file_path, sep='::', names=ratings_cols, engine='python')\n",
    "orginal_data_size = len(ratings)\n",
    "ratings.head()"
   ]
  },
  {
   "cell_type": "code",
   "execution_count": 32,
   "metadata": {},
   "outputs": [
    {
     "output_type": "stream",
     "name": "stdout",
     "text": [
      "orginal_data_size: 1000209, filtered_data_size: 836478\nRatio of Remaining Data is 83.63%\n"
     ]
    }
   ],
   "source": [
    "\"\"\"\n",
    "rating 이 3 이상의 데이터만 사용\n",
    "\"\"\"\n",
    "\n",
    "# 3점 이상만 남깁니다.\n",
    "ratings = ratings[ratings['rating']>=3]\n",
    "filtered_data_size = len(ratings)\n",
    "\n",
    "print(f'orginal_data_size: {orginal_data_size}, filtered_data_size: {filtered_data_size}')\n",
    "print(f'Ratio of Remaining Data is {filtered_data_size / orginal_data_size:.2%}')"
   ]
  },
  {
   "cell_type": "code",
   "execution_count": 33,
   "metadata": {},
   "outputs": [
    {
     "output_type": "execute_result",
     "data": {
      "text/plain": [
       "0          5\n",
       "1          3\n",
       "2          3\n",
       "3          4\n",
       "4          5\n",
       "          ..\n",
       "1000203    3\n",
       "1000205    5\n",
       "1000206    5\n",
       "1000207    4\n",
       "1000208    4\n",
       "Name: rating, Length: 836478, dtype: int64"
      ]
     },
     "metadata": {},
     "execution_count": 33
    }
   ],
   "source": [
    "\"\"\"\n",
    "컬럼 rating 확인\n",
    "\"\"\"\n",
    "\n",
    "ratings['rating']"
   ]
  },
  {
   "cell_type": "code",
   "execution_count": 34,
   "metadata": {},
   "outputs": [
    {
     "output_type": "execute_result",
     "data": {
      "text/plain": [
       "   movie_id                               title                         genre\n",
       "0         1                    Toy Story (1995)   Animation|Children's|Comedy\n",
       "1         2                      Jumanji (1995)  Adventure|Children's|Fantasy\n",
       "2         3             Grumpier Old Men (1995)                Comedy|Romance\n",
       "3         4            Waiting to Exhale (1995)                  Comedy|Drama\n",
       "4         5  Father of the Bride Part II (1995)                        Comedy"
      ],
      "text/html": "<div>\n<style scoped>\n    .dataframe tbody tr th:only-of-type {\n        vertical-align: middle;\n    }\n\n    .dataframe tbody tr th {\n        vertical-align: top;\n    }\n\n    .dataframe thead th {\n        text-align: right;\n    }\n</style>\n<table border=\"1\" class=\"dataframe\">\n  <thead>\n    <tr style=\"text-align: right;\">\n      <th></th>\n      <th>movie_id</th>\n      <th>title</th>\n      <th>genre</th>\n    </tr>\n  </thead>\n  <tbody>\n    <tr>\n      <th>0</th>\n      <td>1</td>\n      <td>Toy Story (1995)</td>\n      <td>Animation|Children's|Comedy</td>\n    </tr>\n    <tr>\n      <th>1</th>\n      <td>2</td>\n      <td>Jumanji (1995)</td>\n      <td>Adventure|Children's|Fantasy</td>\n    </tr>\n    <tr>\n      <th>2</th>\n      <td>3</td>\n      <td>Grumpier Old Men (1995)</td>\n      <td>Comedy|Romance</td>\n    </tr>\n    <tr>\n      <th>3</th>\n      <td>4</td>\n      <td>Waiting to Exhale (1995)</td>\n      <td>Comedy|Drama</td>\n    </tr>\n    <tr>\n      <th>4</th>\n      <td>5</td>\n      <td>Father of the Bride Part II (1995)</td>\n      <td>Comedy</td>\n    </tr>\n  </tbody>\n</table>\n</div>"
     },
     "metadata": {},
     "execution_count": 34
    }
   ],
   "source": [
    "\"\"\"\n",
    "pandas 로 movies 데이터 불러오기\n",
    "\"\"\"\n",
    "\n",
    "# 영화 제목을 보기 위해 메타 데이터를 읽어옵니다.\n",
    "movie_file_path=os.getenv('HOME') + '/aiffel/recommendata_iu/data/ml-1m/movies.dat'\n",
    "cols = ['movie_id', 'title', 'genre'] \n",
    "movies = pd.read_csv(movie_file_path, sep='::', names=cols, engine='python')\n",
    "movies.head()"
   ]
  },
  {
   "source": [
    "<br>\n",
    "\n",
    "## 데이터 병합 <br>\n",
    "\n",
    "movie_id 를 공통 컬럼으로 가지고 있는 두 DataFrame 인 ratings 와 movies 를 <br>\n",
    "movie_id 를 기준으로 병합해 줍니다.\n",
    "\n",
    "<br>"
   ],
   "cell_type": "markdown",
   "metadata": {}
  },
  {
   "cell_type": "code",
   "execution_count": 35,
   "metadata": {},
   "outputs": [
    {
     "output_type": "execute_result",
     "data": {
      "text/plain": [
       "   user_id  movie_id  rating  timestamp  \\\n",
       "0        1      1193       5  978300760   \n",
       "1        2      1193       5  978298413   \n",
       "2       12      1193       4  978220179   \n",
       "3       15      1193       4  978199279   \n",
       "4       17      1193       5  978158471   \n",
       "\n",
       "                                    title  genre  \n",
       "0  One Flew Over the Cuckoo's Nest (1975)  Drama  \n",
       "1  One Flew Over the Cuckoo's Nest (1975)  Drama  \n",
       "2  One Flew Over the Cuckoo's Nest (1975)  Drama  \n",
       "3  One Flew Over the Cuckoo's Nest (1975)  Drama  \n",
       "4  One Flew Over the Cuckoo's Nest (1975)  Drama  "
      ],
      "text/html": "<div>\n<style scoped>\n    .dataframe tbody tr th:only-of-type {\n        vertical-align: middle;\n    }\n\n    .dataframe tbody tr th {\n        vertical-align: top;\n    }\n\n    .dataframe thead th {\n        text-align: right;\n    }\n</style>\n<table border=\"1\" class=\"dataframe\">\n  <thead>\n    <tr style=\"text-align: right;\">\n      <th></th>\n      <th>user_id</th>\n      <th>movie_id</th>\n      <th>rating</th>\n      <th>timestamp</th>\n      <th>title</th>\n      <th>genre</th>\n    </tr>\n  </thead>\n  <tbody>\n    <tr>\n      <th>0</th>\n      <td>1</td>\n      <td>1193</td>\n      <td>5</td>\n      <td>978300760</td>\n      <td>One Flew Over the Cuckoo's Nest (1975)</td>\n      <td>Drama</td>\n    </tr>\n    <tr>\n      <th>1</th>\n      <td>2</td>\n      <td>1193</td>\n      <td>5</td>\n      <td>978298413</td>\n      <td>One Flew Over the Cuckoo's Nest (1975)</td>\n      <td>Drama</td>\n    </tr>\n    <tr>\n      <th>2</th>\n      <td>12</td>\n      <td>1193</td>\n      <td>4</td>\n      <td>978220179</td>\n      <td>One Flew Over the Cuckoo's Nest (1975)</td>\n      <td>Drama</td>\n    </tr>\n    <tr>\n      <th>3</th>\n      <td>15</td>\n      <td>1193</td>\n      <td>4</td>\n      <td>978199279</td>\n      <td>One Flew Over the Cuckoo's Nest (1975)</td>\n      <td>Drama</td>\n    </tr>\n    <tr>\n      <th>4</th>\n      <td>17</td>\n      <td>1193</td>\n      <td>5</td>\n      <td>978158471</td>\n      <td>One Flew Over the Cuckoo's Nest (1975)</td>\n      <td>Drama</td>\n    </tr>\n  </tbody>\n</table>\n</div>"
     },
     "metadata": {},
     "execution_count": 35
    }
   ],
   "source": [
    "\"\"\"\n",
    "pandas.merger() 를 이용하여\n",
    "공통열 movie_id 를 기준으로 ratings 데이터프레임과 movies 데이터프레임 병합\n",
    "\"\"\"\n",
    "\n",
    "data = pd.merge(ratings, movies, on='movie_id', how='inner')\n",
    "data.head()"
   ]
  },
  {
   "source": [
    "<br>\n",
    "\n",
    "## 데이터 탐색 <br>\n",
    "\n",
    "- ratings에 있는 유니크한 영화 개수 <br>\n",
    "- rating에 있는 유니크한 사용자 수 <br>\n",
    "- 가장 인기 있는 영화 30개(인기순) <br>\n",
    "\n",
    "<br>"
   ],
   "cell_type": "markdown",
   "metadata": {}
  },
  {
   "cell_type": "code",
   "execution_count": 36,
   "metadata": {},
   "outputs": [
    {
     "output_type": "stream",
     "name": "stdout",
     "text": [
      "유저 수 :  6039\n영화 수 :  3628\n"
     ]
    }
   ],
   "source": [
    "\"\"\"\n",
    "pandas.DataFrame.nunique() 사용\n",
    "유저 수 : ratings에 있는 유니크한 사용자 수\n",
    "영화 수 : ratings에 있는 유니크한 영화 개수\n",
    "\"\"\"\n",
    "\n",
    "print(\"유저 수 : \", data['user_id'].nunique())\n",
    "print(\"영화 수 : \", data['movie_id'].nunique())"
   ]
  },
  {
   "cell_type": "code",
   "execution_count": 37,
   "metadata": {},
   "outputs": [
    {
     "output_type": "execute_result",
     "data": {
      "text/plain": [
       "title\n",
       "American Beauty (1999)                                   3211\n",
       "Star Wars: Episode IV - A New Hope (1977)                2910\n",
       "Star Wars: Episode V - The Empire Strikes Back (1980)    2885\n",
       "Star Wars: Episode VI - Return of the Jedi (1983)        2716\n",
       "Saving Private Ryan (1998)                               2561\n",
       "Terminator 2: Judgment Day (1991)                        2509\n",
       "Silence of the Lambs, The (1991)                         2498\n",
       "Raiders of the Lost Ark (1981)                           2473\n",
       "Back to the Future (1985)                                2460\n",
       "Matrix, The (1999)                                       2434\n",
       "Jurassic Park (1993)                                     2413\n",
       "Sixth Sense, The (1999)                                  2385\n",
       "Fargo (1996)                                             2371\n",
       "Braveheart (1995)                                        2314\n",
       "Men in Black (1997)                                      2297\n",
       "Schindler's List (1993)                                  2257\n",
       "Princess Bride, The (1987)                               2252\n",
       "Shakespeare in Love (1998)                               2213\n",
       "L.A. Confidential (1997)                                 2210\n",
       "Shawshank Redemption, The (1994)                         2194\n",
       "Godfather, The (1972)                                    2167\n",
       "Groundhog Day (1993)                                     2121\n",
       "E.T. the Extra-Terrestrial (1982)                        2102\n",
       "Being John Malkovich (1999)                              2066\n",
       "Ghostbusters (1984)                                      2051\n",
       "Pulp Fiction (1994)                                      2030\n",
       "Forrest Gump (1994)                                      2022\n",
       "Terminator, The (1984)                                   2019\n",
       "Toy Story (1995)                                         2000\n",
       "Fugitive, The (1993)                                     1941\n",
       "Alien (1979)                                             1920\n",
       "Gladiator (2000)                                         1798\n",
       "Total Recall (1990)                                      1786\n",
       "Star Wars: Episode I - The Phantom Menace (1999)         1783\n",
       "Usual Suspects, The (1995)                               1744\n",
       "Stand by Me (1986)                                       1728\n",
       "Blade Runner (1982)                                      1722\n",
       "Aliens (1986)                                            1720\n",
       "One Flew Over the Cuckoo's Nest (1975)                   1680\n",
       "Wizard of Oz, The (1939)                                 1650\n",
       "Godfather: Part II, The (1974)                           1624\n",
       "Casablanca (1942)                                        1623\n",
       "Who Framed Roger Rabbit? (1988)                          1605\n",
       "Bug's Life, A (1998)                                     1599\n",
       "Jaws (1975)                                              1598\n",
       "GoodFellas (1990)                                        1595\n",
       "Die Hard (1988)                                          1593\n",
       "Hunt for Red October, The (1990)                         1587\n",
       "Airplane! (1980)                                         1586\n",
       "Babe (1995)                                              1574\n",
       "Indiana Jones and the Last Crusade (1989)                1573\n",
       "Galaxy Quest (1999)                                      1572\n",
       "2001: A Space Odyssey (1968)                             1568\n",
       "Abyss, The (1989)                                        1555\n",
       "Monty Python and the Holy Grail (1974)                   1532\n",
       "Lethal Weapon (1987)                                     1527\n",
       "Toy Story 2 (1999)                                       1516\n",
       "Good Will Hunting (1997)                                 1496\n",
       "When Harry Met Sally... (1989)                           1487\n",
       "Speed (1994)                                             1442\n",
       "Name: movie_id, dtype: int64"
      ]
     },
     "metadata": {},
     "execution_count": 37
    }
   ],
   "source": [
    "\"\"\"\n",
    "가장 인기 있는 영화 30개 (인기순)\n",
    "( movie_id 기준으로 ratings 데이터와 movies 데이터 병합 후 적용 ! )m\n",
    "\"\"\"\n",
    "\n",
    "movies_rating = data.groupby('title')['movie_id'].count()\n",
    "movies_rating.sort_values(ascending=False).head(60)"
   ]
  },
  {
   "source": [
    "<br>\n",
    "\n",
    "### 데이터 통계 확인\n",
    "\n",
    "<br>"
   ],
   "cell_type": "markdown",
   "metadata": {}
  },
  {
   "cell_type": "code",
   "execution_count": 38,
   "metadata": {},
   "outputs": [
    {
     "output_type": "execute_result",
     "data": {
      "text/plain": [
       "count    6039.000000\n",
       "mean      138.512668\n",
       "std       156.241599\n",
       "min         1.000000\n",
       "25%        38.000000\n",
       "50%        81.000000\n",
       "75%       177.000000\n",
       "max      1968.000000\n",
       "Name: title, dtype: float64"
      ]
     },
     "metadata": {},
     "execution_count": 38
    }
   ],
   "source": [
    "\"\"\"\n",
    "describe()로 데이터에 대한 통계를 확인\n",
    "\"\"\"\n",
    "\n",
    "# 유저별 몇 개의 영화를 평가하였는지 대한 통계\n",
    "user_rating = data.groupby('user_id')['title'].count()\n",
    "user_rating.describe()"
   ]
  },
  {
   "cell_type": "code",
   "execution_count": 39,
   "metadata": {},
   "outputs": [
    {
     "output_type": "execute_result",
     "data": {
      "text/plain": [
       "count    6039.000000\n",
       "mean        4.055970\n",
       "std         0.432143\n",
       "min         3.000000\n",
       "25%         4.000000\n",
       "50%         4.000000\n",
       "75%         4.000000\n",
       "max         5.000000\n",
       "Name: rating, dtype: float64"
      ]
     },
     "metadata": {},
     "execution_count": 39
    }
   ],
   "source": [
    "\"\"\"\n",
    "median()으로 rating 점수에 대한 중앙값 확인\n",
    "\"\"\"\n",
    "\n",
    "# 유저별 rating 점수 중앙값에 대한 통계 ( 3점 이상에 대해 )\n",
    "user_median = data.groupby('user_id')['rating'].median()\n",
    "user_median.describe()"
   ]
  },
  {
   "source": [
    "<br>\n",
    "\n",
    "## 내가 선호하는 영화 5 가지 ratings 데이터프레임에 추가 <br>\n",
    "\n",
    "Collaborative filtering 모델 검증을 위한 사용자 초기 정보 세팅\n",
    "\n",
    "<br>"
   ],
   "cell_type": "markdown",
   "metadata": {}
  },
  {
   "cell_type": "code",
   "execution_count": 40,
   "metadata": {},
   "outputs": [
    {
     "output_type": "execute_result",
     "data": {
      "text/plain": [
       "        user_id  movie_id  rating     timestamp  \\\n",
       "836473     5851    3607.0       5  9.577566e+08   \n",
       "836474     5854    3026.0       4  9.583469e+08   \n",
       "836475     5854     690.0       3  9.577443e+08   \n",
       "836476     5938    2909.0       4  9.572734e+08   \n",
       "836477     5948    1360.0       5  1.016564e+09   \n",
       "0       Hyunjae       NaN       5           NaN   \n",
       "1       Hyunjae       NaN       5           NaN   \n",
       "2       Hyunjae       NaN       5           NaN   \n",
       "3       Hyunjae       NaN       5           NaN   \n",
       "4       Hyunjae       NaN       5           NaN   \n",
       "\n",
       "                                                    title  \\\n",
       "836473                           One Little Indian (1973)   \n",
       "836474                              Slaughterhouse (1987)   \n",
       "836475             Promise, The (Versprechen, Das) (1994)   \n",
       "836476        Five Wives, Three Secretaries and Me (1998)   \n",
       "836477  Identification of a Woman (Identificazione di ...   \n",
       "0                          Godfather: Part II, The (1974)   \n",
       "1              Ghost in the Shell (Kokaku kidotai) (1995)   \n",
       "2                                      Matrix, The (1999)   \n",
       "3                                          Amadeus (1984)   \n",
       "4                                    Koyaanisqatsi (1983)   \n",
       "\n",
       "                       genre  \n",
       "836473  Comedy|Drama|Western  \n",
       "836474                Horror  \n",
       "836475               Romance  \n",
       "836476           Documentary  \n",
       "836477                 Drama  \n",
       "0                        NaN  \n",
       "1                        NaN  \n",
       "2                        NaN  \n",
       "3                        NaN  \n",
       "4                        NaN  "
      ],
      "text/html": "<div>\n<style scoped>\n    .dataframe tbody tr th:only-of-type {\n        vertical-align: middle;\n    }\n\n    .dataframe tbody tr th {\n        vertical-align: top;\n    }\n\n    .dataframe thead th {\n        text-align: right;\n    }\n</style>\n<table border=\"1\" class=\"dataframe\">\n  <thead>\n    <tr style=\"text-align: right;\">\n      <th></th>\n      <th>user_id</th>\n      <th>movie_id</th>\n      <th>rating</th>\n      <th>timestamp</th>\n      <th>title</th>\n      <th>genre</th>\n    </tr>\n  </thead>\n  <tbody>\n    <tr>\n      <th>836473</th>\n      <td>5851</td>\n      <td>3607.0</td>\n      <td>5</td>\n      <td>9.577566e+08</td>\n      <td>One Little Indian (1973)</td>\n      <td>Comedy|Drama|Western</td>\n    </tr>\n    <tr>\n      <th>836474</th>\n      <td>5854</td>\n      <td>3026.0</td>\n      <td>4</td>\n      <td>9.583469e+08</td>\n      <td>Slaughterhouse (1987)</td>\n      <td>Horror</td>\n    </tr>\n    <tr>\n      <th>836475</th>\n      <td>5854</td>\n      <td>690.0</td>\n      <td>3</td>\n      <td>9.577443e+08</td>\n      <td>Promise, The (Versprechen, Das) (1994)</td>\n      <td>Romance</td>\n    </tr>\n    <tr>\n      <th>836476</th>\n      <td>5938</td>\n      <td>2909.0</td>\n      <td>4</td>\n      <td>9.572734e+08</td>\n      <td>Five Wives, Three Secretaries and Me (1998)</td>\n      <td>Documentary</td>\n    </tr>\n    <tr>\n      <th>836477</th>\n      <td>5948</td>\n      <td>1360.0</td>\n      <td>5</td>\n      <td>1.016564e+09</td>\n      <td>Identification of a Woman (Identificazione di ...</td>\n      <td>Drama</td>\n    </tr>\n    <tr>\n      <th>0</th>\n      <td>Hyunjae</td>\n      <td>NaN</td>\n      <td>5</td>\n      <td>NaN</td>\n      <td>Godfather: Part II, The (1974)</td>\n      <td>NaN</td>\n    </tr>\n    <tr>\n      <th>1</th>\n      <td>Hyunjae</td>\n      <td>NaN</td>\n      <td>5</td>\n      <td>NaN</td>\n      <td>Ghost in the Shell (Kokaku kidotai) (1995)</td>\n      <td>NaN</td>\n    </tr>\n    <tr>\n      <th>2</th>\n      <td>Hyunjae</td>\n      <td>NaN</td>\n      <td>5</td>\n      <td>NaN</td>\n      <td>Matrix, The (1999)</td>\n      <td>NaN</td>\n    </tr>\n    <tr>\n      <th>3</th>\n      <td>Hyunjae</td>\n      <td>NaN</td>\n      <td>5</td>\n      <td>NaN</td>\n      <td>Amadeus (1984)</td>\n      <td>NaN</td>\n    </tr>\n    <tr>\n      <th>4</th>\n      <td>Hyunjae</td>\n      <td>NaN</td>\n      <td>5</td>\n      <td>NaN</td>\n      <td>Koyaanisqatsi (1983)</td>\n      <td>NaN</td>\n    </tr>\n  </tbody>\n</table>\n</div>"
     },
     "metadata": {},
     "execution_count": 40
    }
   ],
   "source": [
    "\"\"\"\n",
    "사용자 초기 정보 추가 : 내가 좋아하는 영화 데이터로 추가 \n",
    "( 단, 이름은 꼭 데이터셋에 있는 것과 동일하게 맞춰야 합니다 )\n",
    "\"\"\"\n",
    "\n",
    "my_favorite = ['Godfather: Part II, The (1974)' , 'Ghost in the Shell (Kokaku kidotai) (1995)' ,'Matrix, The (1999)' ,'Amadeus (1984)' ,'Koyaanisqatsi (1983)']\n",
    "my_favorite_id = []\n",
    "\n",
    "# 'Hyunjae'이라는 user_id가 위 영화를 5점씩 주었다고 가정\n",
    "my_ratings = pd.DataFrame({'user_id': ['Hyunjae']*5, 'title': my_favorite, 'rating':[5]*5})\n",
    "\n",
    "if not data.isin({'user_id':['Hyunjae']})['user_id'].any():\n",
    "    # user_id에 'Hyunjae'라는 데이터가 없다면\n",
    "    # 위에 임의로 만든 my_favorite 데이터를 추가해 줍니다.\n",
    "    data = data.append(my_ratings)\n",
    "\n",
    "data.tail(10)       # 잘 추가되었는지 확인"
   ]
  },
  {
   "source": [
    "<br>\n",
    "\n",
    "### 데이터 전처리 : indexing <br>\n",
    "\n",
    "사용자 이름 (user_id)을 숫자 index로 바꿔주고,<br>\n",
    "영화 이름 (title)을 숫자 index로 바꾸어 줍니다. <br>\n",
    "( 이름만 숫자로 바뀌고 data frame은 변경하지 않습니다 ) <br><br>\n",
    "\n",
    "__pandas.DataFrame.unique()__ <br>\n",
    "특정 컬럼에 포함된 유니크한 데이터만 모아 줍니다. <br>\n",
    "indexing 작업을 위해 매우 유용합니다.\n",
    "\n",
    "<br>"
   ],
   "cell_type": "markdown",
   "metadata": {}
  },
  {
   "cell_type": "code",
   "execution_count": 41,
   "metadata": {},
   "outputs": [],
   "source": [
    "\"\"\"\n",
    "panda.DataFrame.unique()를 이용해 고윳값들을 뽑아 \n",
    "index로 바꿔주는 함수 생성\n",
    "\"\"\"\n",
    "\n",
    "# 고유한 유저, 영화를 찾아내는 코드\n",
    "user_unique = data['user_id'].unique()\n",
    "title_unique = data['title'].unique()\n",
    "\n",
    "# 유저, 영화 indexing 하는 코드 idx는 index의 약자입니다.\n",
    "user_to_idx = {v:k for k,v in enumerate(user_unique)}\n",
    "title_to_idx = {v:k for k,v in enumerate(title_unique)}"
   ]
  },
  {
   "cell_type": "code",
   "execution_count": 42,
   "metadata": {},
   "outputs": [
    {
     "output_type": "stream",
     "name": "stdout",
     "text": [
      "6039\n380\n"
     ]
    }
   ],
   "source": [
    "\"\"\"\n",
    "인덱싱이 잘 되었는지 확인\n",
    "\"\"\"\n",
    "\n",
    "print(user_to_idx['Hyunjae'])    # 6040명의 유저 중 마지막으로 추가된 유저이니 6039이 나와야 합니다. \n",
    "print(title_to_idx['Godfather: Part II, The (1974)'])"
   ]
  },
  {
   "cell_type": "code",
   "execution_count": 43,
   "metadata": {},
   "outputs": [
    {
     "output_type": "stream",
     "name": "stdout",
     "text": [
      "user_id column indexing OK!!\ntitle column indexing OK!!\n"
     ]
    },
    {
     "output_type": "execute_result",
     "data": {
      "text/plain": [
       "    user_id  movie_id  rating    timestamp  title  genre\n",
       "0         0    1193.0       5  978300760.0      0  Drama\n",
       "1         1    1193.0       5  978298413.0      0  Drama\n",
       "2         2    1193.0       4  978220179.0      0  Drama\n",
       "3         3    1193.0       4  978199279.0      0  Drama\n",
       "4         4    1193.0       5  978158471.0      0  Drama\n",
       "..      ...       ...     ...          ...    ...    ...\n",
       "0      6039       NaN       5          NaN    380    NaN\n",
       "1      6039       NaN       5          NaN    414    NaN\n",
       "2      6039       NaN       5          NaN    124    NaN\n",
       "3      6039       NaN       5          NaN    100    NaN\n",
       "4      6039       NaN       5          NaN   2299    NaN\n",
       "\n",
       "[836483 rows x 6 columns]"
      ],
      "text/html": "<div>\n<style scoped>\n    .dataframe tbody tr th:only-of-type {\n        vertical-align: middle;\n    }\n\n    .dataframe tbody tr th {\n        vertical-align: top;\n    }\n\n    .dataframe thead th {\n        text-align: right;\n    }\n</style>\n<table border=\"1\" class=\"dataframe\">\n  <thead>\n    <tr style=\"text-align: right;\">\n      <th></th>\n      <th>user_id</th>\n      <th>movie_id</th>\n      <th>rating</th>\n      <th>timestamp</th>\n      <th>title</th>\n      <th>genre</th>\n    </tr>\n  </thead>\n  <tbody>\n    <tr>\n      <th>0</th>\n      <td>0</td>\n      <td>1193.0</td>\n      <td>5</td>\n      <td>978300760.0</td>\n      <td>0</td>\n      <td>Drama</td>\n    </tr>\n    <tr>\n      <th>1</th>\n      <td>1</td>\n      <td>1193.0</td>\n      <td>5</td>\n      <td>978298413.0</td>\n      <td>0</td>\n      <td>Drama</td>\n    </tr>\n    <tr>\n      <th>2</th>\n      <td>2</td>\n      <td>1193.0</td>\n      <td>4</td>\n      <td>978220179.0</td>\n      <td>0</td>\n      <td>Drama</td>\n    </tr>\n    <tr>\n      <th>3</th>\n      <td>3</td>\n      <td>1193.0</td>\n      <td>4</td>\n      <td>978199279.0</td>\n      <td>0</td>\n      <td>Drama</td>\n    </tr>\n    <tr>\n      <th>4</th>\n      <td>4</td>\n      <td>1193.0</td>\n      <td>5</td>\n      <td>978158471.0</td>\n      <td>0</td>\n      <td>Drama</td>\n    </tr>\n    <tr>\n      <th>...</th>\n      <td>...</td>\n      <td>...</td>\n      <td>...</td>\n      <td>...</td>\n      <td>...</td>\n      <td>...</td>\n    </tr>\n    <tr>\n      <th>0</th>\n      <td>6039</td>\n      <td>NaN</td>\n      <td>5</td>\n      <td>NaN</td>\n      <td>380</td>\n      <td>NaN</td>\n    </tr>\n    <tr>\n      <th>1</th>\n      <td>6039</td>\n      <td>NaN</td>\n      <td>5</td>\n      <td>NaN</td>\n      <td>414</td>\n      <td>NaN</td>\n    </tr>\n    <tr>\n      <th>2</th>\n      <td>6039</td>\n      <td>NaN</td>\n      <td>5</td>\n      <td>NaN</td>\n      <td>124</td>\n      <td>NaN</td>\n    </tr>\n    <tr>\n      <th>3</th>\n      <td>6039</td>\n      <td>NaN</td>\n      <td>5</td>\n      <td>NaN</td>\n      <td>100</td>\n      <td>NaN</td>\n    </tr>\n    <tr>\n      <th>4</th>\n      <td>6039</td>\n      <td>NaN</td>\n      <td>5</td>\n      <td>NaN</td>\n      <td>2299</td>\n      <td>NaN</td>\n    </tr>\n  </tbody>\n</table>\n<p>836483 rows × 6 columns</p>\n</div>"
     },
     "metadata": {},
     "execution_count": 43
    }
   ],
   "source": [
    "\"\"\"\n",
    "indexing을 통해 데이터 컬럼 내 값을 바꾸는 코드\n",
    "dictionary 자료형의 get 함수는 https://wikidocs.net/16 을 참고하세요.\n",
    "\"\"\"\n",
    "\n",
    "# user_to_idx.get을 통해 user_id 컬럼의 모든 값을 인덱싱한 Series를 구해 봅시다. \n",
    "# 혹시 정상적으로 인덱싱되지 않은 row가 있다면 인덱스가 NaN이 될 테니 dropna()로 제거\n",
    "temp_user_data = data['user_id'].map(user_to_idx.get).dropna()\n",
    "if len(temp_user_data) == len(data):   # 모든 row가 정상적으로 인덱싱되었다면\n",
    "    print('user_id column indexing OK!!')\n",
    "    data['user_id'] = temp_user_data   # data['user_id']을 인덱싱된 Series로 교체\n",
    "else:\n",
    "    print('user_id column indexing Fail!!')\n",
    "\n",
    "# title_to_idx을 통해 title 컬럼도 동일한 방식으로 인덱싱 \n",
    "temp_title_data = data['title'].map(title_to_idx.get).dropna()\n",
    "if len(temp_title_data) == len(data):\n",
    "    print('title column indexing OK!!')\n",
    "    data['title'] = temp_title_data\n",
    "else:\n",
    "    print('title column indexing Fail!!')\n",
    "\n",
    "# data의 user_id와 title 컬럼 내 값들이 모두 정수 인덱스 값으로 변경되었는지 확인\n",
    "data"
   ]
  },
  {
   "source": [
    "<br>\n",
    "\n",
    "### 사용자의 암묵적 평가 확인 <br>\n",
    "\n",
    "추천시스템은 사용자들이 아이템을 얼마나 선호하는지를 모델링하기를 원합니다. 그러자면 사용자의 아이템 선호도를 말해 주는 유저 행동 데이터셋이 필요합니다. 만약 우리 데이터가 좋아요나 별점처럼 선호도를 명시적(explicit)으로 나타내는 것이라면 명시적 평가지표로 선호도를 선정하면 됩니다. <br><br>\n",
    "\n",
    "우리는 rating 3점 이상의 영화 데이터만 가져왔으므로, 4점 이상에 대해서 선호한다고 판단하겠습니다.\n",
    "\n",
    "<br>"
   ],
   "cell_type": "markdown",
   "metadata": {}
  },
  {
   "source": [
    "\"\"\"\n",
    "rating 이 4(점) 이상의 데이터의 비율을 보는 코드\n",
    "\"\"\"\n",
    "\n",
    "only_one = data[data['rating']>3]\n",
    "one, all_data = len(only_one), len(data)\n",
    "\n",
    "# f-format에 대한 설명은 https://bit.ly/2DTLqYU\n",
    "print(f'{one},{all_data}')\n",
    "print(f'Ratio of only_one over all data is {one/all_data:.2%}')  "
   ],
   "cell_type": "code",
   "metadata": {},
   "execution_count": 45,
   "outputs": [
    {
     "output_type": "stream",
     "name": "stdout",
     "text": [
      "575286,836483\nRatio of only_one over all data is 68.77%\n"
     ]
    }
   ]
  },
  {
   "source": [
    "<br>\n",
    "\n",
    "### Matrix Factorization (MF) <br>\n",
    "\n",
    "__추천 시스템의 협업필터링 방법 중 하나인 행렬분해 (Matrix Factorization)__ <br><br>\n",
    "\n",
    "\\[사용자 수 x 항목 수\\] 가 \\[m x n\\] 인 Rating Mtrix R을 <br>\n",
    "\\[사용자 수 x feature 수\\] 가 \\[m x k\\] 인 Feature Matrix P와 <br>\n",
    "\\[feature 수 x 항목 수\\] 가 \\[k x n\\] 인 Feature Matrix Q로 분해하여 계산 ! <br><br>\n",
    "\n",
    "rating matrix R = feature matrix P * feature matrix Q\n",
    "\n",
    "<br>"
   ],
   "cell_type": "markdown",
   "metadata": {}
  },
  {
   "source": [
    "<br>\n",
    "\n",
    "## CSR matrix 생성 (Compressed Sparse Row matrix) <br><br>\n",
    "\n",
    "\n",
    "이런 경우의 좋은 대안이 되는 것이 CSR(Compressed Sparse Row) Matrix입니다. <br>\n",
    "이후 수행할 모델 학습의 input으로 사용할 데이터 타입을 CSR Matrix로 할 것입니다. <br><br>\n",
    "\n",
    "CSR Matrix는 Sparse한 matrix에서 0이 아닌 유효한 데이터로 채워지는 데이터의 값과 좌표 정보만으로 구성하여 메모리 사용량을 최소화하면서도 Sparse한 matrix와 동일한 행렬을 표현할 수 있도록 하는 데이터 구조입니다. <br><br>\n",
    "\n",
    "https://lovit.github.io/nlp/machine%20learning/2018/04/09/sparse_mtarix_handling/#csr-matrix <br>\n",
    "https://docs.scipy.org/doc/scipy/reference/generated/scipy.sparse.csr_matrix.html\n",
    "\n",
    "<br>"
   ],
   "cell_type": "markdown",
   "metadata": {}
  },
  {
   "source": [
    "<br>\n",
    "\n",
    "### Scipy sparse matrix handling <br>\n",
    "\n",
    "\"행렬 데이터의 압축 방식 중 하나(?)\" <br>\n",
    "\n",
    "벡터는 행렬로 표현할 수 있습니다. Distributed representation 처럼 벡터의 대부분의 값이 0 이 아닐 경우에는 numpy.ndarray 와 같은 double[][] 형식으로 벡터를 저장합니다. Row 는 각 entity, column 은 벡터 공간에서의 각 차원에 해당합니다. 이와 반대로 sparse matrix 는 벡터의 많은 값들이 0 입니다. 대부분의 값이 일정하다면 그 값이 아닌 다른 값들만을 메모리에 저장하면 메모리를 효율적으로 이용할 수 있습니다. 데이터를 저장할 때도 마찬가지입니다. Sparse matrix 는 이를 위한 format 입니다. Format 이 array 가 아니기 때문에 이를 잘 이용하기 위한 방법을 알아야 합니다. Python 의 scipy.sparse 라이브러리에는 sparse matrix format 들이 구현되어 있습니다. <br><br>\n",
    "\n",
    "\n",
    "``` python\n",
    "csr_matrix((data, (row_ind, col_ind)), [shape=(M, N)]) \n",
    "```\n",
    "\n",
    "data, row_ind, col_ind 는 ```[row_ind[k], col_ind[k]] = data[k]``` 를 만족 <br>\n",
    "( M,N은 matrix의 shape )\n",
    "\n",
    "<br>"
   ],
   "cell_type": "markdown",
   "metadata": {}
  },
  {
   "source": [
    "\"\"\"\n",
    "이제 우리의 data를 CSR Matrix에 맞게 바꿔보겠습니다.\n",
    "DataFrame을 만드는 방식이 다양하듯 csr_matrix를 만드는 방법은 다양하게 있습니다.\n",
    "현재 data와 같은 데이터 구조에 적합한 방식은 위 링크에서 4번째로 설명하고 있는 방법입니다.\n",
    "\"\"\"\n",
    "\n",
    "# 실습 위에 설명보고 이해해서 만들어보기\n",
    "from scipy.sparse import csr_matrix\n",
    "\n",
    "num_user = data['user_id'].nunique()\n",
    "num_title = data['title'].nunique()\n",
    "\n",
    "csr_data = csr_matrix((data.rating, (data.user_id, data.title)), shape= (num_user, num_title))\n",
    "csr_data"
   ],
   "cell_type": "code",
   "metadata": {},
   "execution_count": 46,
   "outputs": [
    {
     "output_type": "execute_result",
     "data": {
      "text/plain": [
       "<6040x3628 sparse matrix of type '<class 'numpy.int64'>'\n",
       "\twith 836483 stored elements in Compressed Sparse Row format>"
      ]
     },
     "metadata": {},
     "execution_count": 46
    }
   ]
  },
  {
   "source": [
    "<br>\n",
    "\n",
    "## 모델 구성하고 학습하기 : Matrix Factorization model <br><br>\n",
    "\n",
    "\n",
    "Matrix Factorization 모델을 [implicit 패키지](https://github.com/benfred/implicit)를 사용하여 학습해 봅시다. <br><br>\n",
    "\n",
    "__implicit__ <br>\n",
    "Fast Python Collaborative Filtering for Implicit Datasets (암묵적 데이터). <br>\n",
    "implicit 패키지는 이전 스텝에서 설명한 암묵적(implicit) dataset을 사용하는 다양한 모델을 굉장히 빠르게 학습할 수 있는 패키지입니다. <br><br>\n",
    "\n",
    "패키지에 구현된 __als(AlternatingLeastSquares)__ 모델 사용 <br>\n",
    "이 패키지에 구현된 als(AlternatingLeastSquares) 모델을 사용하겠습니다. Matrix Factorization에서 쪼개진 두 Feature Matrix를 한꺼번에 훈련하는 것은 잘 수렴하지 않기 때문에, 한쪽을 고정시키고 다른 쪽을 학습하는 방식을 번갈아 수행하는 AlternatingLeastSquares 방식이 효과적인 것으로 알려져 있습니다.\n",
    "\n",
    "<br>"
   ],
   "cell_type": "markdown",
   "metadata": {}
  },
  {
   "source": [
    "<br>\n",
    "\n",
    "### implicit 의 als (AlternatingLeastSquares) 모델 <br>\n",
    "\n",
    "AlternatingLeastSquares 클래스의 __init__ 파라미터를 살펴보겠습니다. <br>\n",
    "( 1, 4를 늘릴수록 학습데이터를 잘 학습하게 되지만 과적합의 우려가 있으니 좋은 값을 찾아야 합니다 ) <br><br>\n",
    "\n",
    "1. factors : 유저와 아이템의 벡터를 몇 차원으로 할 것인지 <br>\n",
    "2. regularization : 과적합을 방지하기 위해 정규화 값을 얼마나 사용할 것인지 <br>\n",
    "3. use_gpu : GPU를 사용할 것인지 <br>\n",
    "4. iterations : epochs와 같은 의미입니다. 데이터를 몇 번 반복해서 학습할 것인지\n",
    "\n",
    "<br>"
   ],
   "cell_type": "markdown",
   "metadata": {}
  },
  {
   "cell_type": "code",
   "execution_count": 47,
   "metadata": {},
   "outputs": [],
   "source": [
    "\"\"\"\n",
    "Matrix Factorization 모델 학습을 위한\n",
    "implicit 패키지 불러오기\n",
    "\"\"\"\n",
    "\n",
    "from implicit.als import AlternatingLeastSquares\n",
    "import os\n",
    "import numpy as np\n",
    "\n",
    "# implicit 라이브러리에서 권장하고 있는 부분입니다. 학습 내용과는 무관합니다.\n",
    "os.environ['OPENBLAS_NUM_THREADS']='1'\n",
    "os.environ['KMP_DUPLICATE_LIB_OK']='True'\n",
    "os.environ['MKL_NUM_THREADS']='1'"
   ]
  },
  {
   "cell_type": "code",
   "execution_count": 99,
   "metadata": {},
   "outputs": [],
   "source": [
    "\"\"\"\n",
    "모델 생성\n",
    "factors를 늘리거나 iterations를 늘려 다시 학습해 봅시다 !\n",
    "factors = 100, iterations = 15 에서 factors = 500, iterations = 100 으로 변경\n",
    "\"\"\"\n",
    "\n",
    "# Implicit AlternatingLeastSquares 모델의 선언\n",
    "als_model = AlternatingLeastSquares(factors=500, regularization=0.01, use_gpu=False, iterations=100, dtype=np.float32)"
   ]
  },
  {
   "cell_type": "code",
   "execution_count": 100,
   "metadata": {},
   "outputs": [
    {
     "output_type": "execute_result",
     "data": {
      "text/plain": [
       "<3628x6040 sparse matrix of type '<class 'numpy.int64'>'\n",
       "\twith 836483 stored elements in Compressed Sparse Column format>"
      ]
     },
     "metadata": {},
     "execution_count": 100
    }
   ],
   "source": [
    "\"\"\"\n",
    "모델 입력을 뒤한 데이터 처리\n",
    "\"\"\"\n",
    "\n",
    "# als 모델은 input으로 (item X user 꼴의 matrix를 받기 때문에 Transpose해줍니다.)\n",
    "csr_data_transpose = csr_data.T\n",
    "csr_data_transpose"
   ]
  },
  {
   "source": [
    "\"\"\"\n",
    "모델 훈련\n",
    "\"\"\"\n",
    "\n",
    "als_model.fit(csr_data_transpose)"
   ],
   "cell_type": "code",
   "metadata": {},
   "execution_count": 101,
   "outputs": [
    {
     "output_type": "stream",
     "name": "stderr",
     "text": [
      "100%|██████████| 100/100 [00:36<00:00,  2.73it/s]\n"
     ]
    }
   ]
  },
  {
   "source": [
    "<br>\n",
    "\n",
    "## 학습 결과 확인 <br>\n",
    "\n",
    "학습된 모델이 <br>\n",
    "1. 저의 벡터와 black eyed peas의 벡터를 어떻게 만들고 있는지와 <br>\n",
    "2. 두 벡터를 곱하면 어떤 값이 나오는지 살펴보겠습니다. <br><br>\n",
    "\n",
    "1 이 나와야 될 것 같은데 한참 낮은 수치인 0.49 정도가 나왔습니다. <br>\n",
    "factors를 늘리거나 iterations를 늘려야 할 것 같습니다. <br>\n",
    "( 이후 진행되는 내용은 일단 이렇게 학습된 모델을 사용하겠습니다 )\n",
    "\n",
    "<br>"
   ],
   "cell_type": "markdown",
   "metadata": {}
  },
  {
   "cell_type": "code",
   "execution_count": 102,
   "metadata": {},
   "outputs": [],
   "source": [
    "\"\"\"\n",
    "생성된 모델로 유저 선호도와 영화 선호도 벡터 생성\n",
    "\"\"\"\n",
    "\n",
    "Hyunjae, God_Father_2 = user_to_idx['Hyunjae'], title_to_idx['Godfather: Part II, The (1974)']\n",
    "Hyunjae_vector, God_Father_2_vector = als_model.user_factors[Hyunjae], als_model.item_factors[God_Father_2]"
   ]
  },
  {
   "cell_type": "code",
   "execution_count": 103,
   "metadata": {},
   "outputs": [
    {
     "output_type": "execute_result",
     "data": {
      "text/plain": [
       "array([ 2.43720949e-01,  1.64639667e-01, -2.01024979e-01,  1.31327540e-01,\n",
       "        9.39826816e-02, -2.40382016e-01,  1.83375534e-02, -1.51880935e-01,\n",
       "        1.91810742e-01,  2.75844196e-03, -3.20830494e-01, -2.62494773e-01,\n",
       "       -7.88186416e-02, -1.65129587e-01, -1.98155679e-02,  2.40673885e-01,\n",
       "        1.09597139e-01,  6.78849295e-02, -5.72568402e-02, -2.01717898e-01,\n",
       "       -1.74990147e-01,  2.96406895e-01,  4.22820263e-02, -3.04347903e-01,\n",
       "        4.15131092e-01, -6.98995739e-02, -2.85419255e-01, -5.69365136e-02,\n",
       "        6.39953837e-02, -2.93604076e-01,  1.46889500e-02, -1.61244020e-01,\n",
       "       -3.18031497e-02, -1.60494834e-01,  1.11208774e-01,  6.32906333e-02,\n",
       "        1.97470799e-01, -1.18062995e-01,  1.37842029e-01, -8.11232999e-02,\n",
       "        1.35418966e-01,  1.78300306e-01,  1.88177034e-01,  2.08185419e-01,\n",
       "       -7.11619779e-02, -1.84608430e-01, -9.00344923e-02, -4.41303998e-02,\n",
       "        4.53483798e-02,  1.08525589e-01,  1.33006036e-01,  1.66765720e-01,\n",
       "       -7.27117360e-02,  1.51281625e-01, -9.55990478e-02,  2.44683489e-01,\n",
       "       -1.23636000e-01,  1.77218571e-01, -8.79114792e-02,  1.26521051e-01,\n",
       "       -3.84338856e-01, -3.13873470e-01, -1.80169642e-01,  3.04734707e-01,\n",
       "        1.50180578e-01,  2.93624431e-01, -1.34530127e-01,  4.97942753e-02,\n",
       "       -9.64161307e-02, -2.06726134e-01, -5.64831011e-02,  3.08961850e-02,\n",
       "        1.54919088e-01,  7.89985731e-02, -1.12566970e-01,  1.47859380e-01,\n",
       "       -1.04078844e-01, -2.47957349e-01,  1.00185387e-01,  1.37247056e-01,\n",
       "       -2.43734494e-02,  1.25276774e-01,  3.08933556e-02,  1.52910292e-01,\n",
       "        8.23571458e-02,  1.92225099e-01,  1.29809022e-01, -8.89862403e-02,\n",
       "       -4.56495248e-02,  1.63089275e-01, -1.25623465e-01, -1.07791834e-02,\n",
       "       -1.36874959e-01,  1.35988174e-02,  5.80244474e-02, -8.33260491e-02,\n",
       "       -9.68974177e-03, -1.84705872e-02,  6.64652735e-02,  1.62008330e-01,\n",
       "       -6.95427507e-02, -4.80017066e-02, -2.59874731e-01, -1.42954782e-01,\n",
       "        1.05932333e-01, -1.93282813e-01, -1.56643361e-01,  1.15736518e-02,\n",
       "       -1.51179219e-02, -3.82203013e-02, -5.39682992e-02, -7.34792054e-02,\n",
       "       -1.77876353e-02,  2.54939646e-01, -1.10294119e-01, -1.15071975e-01,\n",
       "       -1.55954659e-01,  5.15626790e-03, -2.93890297e-01, -1.26877604e-02,\n",
       "       -2.56802235e-02, -1.08809993e-01, -7.17590228e-02, -2.47211289e-02,\n",
       "        8.77971575e-02, -3.18980992e-01,  1.43604666e-01, -1.62255332e-01,\n",
       "       -1.45174026e-01, -1.85311213e-01, -9.12778527e-02, -1.46559142e-02,\n",
       "        7.71955699e-02,  4.00619179e-01, -1.39427915e-01, -1.95036918e-01,\n",
       "       -7.40941614e-02, -1.17764391e-01,  3.69079635e-02,  1.69195071e-01,\n",
       "        4.25683185e-02, -7.51940906e-02,  1.05336241e-01,  1.83873162e-01,\n",
       "        4.75977212e-02,  2.61114895e-01, -2.17573404e-01,  1.78417802e-01,\n",
       "        3.56411904e-01,  2.30048984e-01, -4.49479707e-02,  1.81112736e-01,\n",
       "        2.81959742e-01,  1.81399778e-01, -1.19431876e-02,  7.79191032e-02,\n",
       "        2.42000371e-01,  3.31269503e-02, -1.95676461e-02,  2.94946820e-01,\n",
       "       -2.15915918e-01, -3.86934951e-02, -1.52342282e-02, -8.48989114e-02,\n",
       "        1.39383271e-01, -3.35044324e-01,  1.61223829e-01,  6.95767701e-02,\n",
       "        1.44385353e-01,  1.11191079e-01, -9.35654417e-02, -1.17510647e-01,\n",
       "        9.66599211e-02, -3.01823974e-01, -9.43284929e-02, -1.22479796e-02,\n",
       "       -2.37438194e-02,  1.83254376e-01,  1.70057252e-01, -3.82875383e-01,\n",
       "        1.79214269e-01, -1.20962888e-01, -1.77740887e-01,  7.79244825e-02,\n",
       "       -7.64380395e-02,  2.57971853e-01,  3.35008837e-02, -7.07873851e-02,\n",
       "       -1.09331056e-01, -1.25425532e-01, -1.80348098e-01,  5.20196324e-03,\n",
       "       -2.46430531e-01,  6.93861991e-02,  2.49985859e-01,  6.71286955e-02,\n",
       "       -2.40098283e-01, -6.52327612e-02,  2.08519071e-01, -1.30956154e-02,\n",
       "       -3.38642597e-01, -2.78144665e-02, -6.73703402e-02,  8.88516009e-02,\n",
       "        1.29374698e-01, -3.28668088e-01, -1.75044701e-01, -2.46621110e-03,\n",
       "       -5.03671728e-03,  1.67600945e-01,  1.93843320e-01,  1.50840759e-01,\n",
       "        8.53931382e-02, -1.64178565e-01,  5.71440011e-02, -1.00438237e-01,\n",
       "        1.45309418e-01, -5.72443381e-02,  3.70056592e-02,  1.21577401e-02,\n",
       "       -1.49134740e-01, -1.96360499e-01,  6.54624477e-02, -5.36381500e-03,\n",
       "       -9.97940376e-02, -3.17020379e-02,  3.44271809e-01,  1.52193867e-02,\n",
       "        1.05149865e-01, -9.73886519e-04,  2.49299258e-02,  4.20487896e-02,\n",
       "       -1.51678100e-01, -9.20788646e-02, -1.42267302e-01,  2.06996396e-01,\n",
       "        5.54529652e-02,  1.30654452e-02,  8.00285041e-02,  6.79962263e-02,\n",
       "        3.10266465e-02, -2.96744198e-01,  1.50181890e-01,  3.20467979e-01,\n",
       "        6.47825897e-02, -1.18635461e-01, -2.35823542e-01,  9.42965522e-02,\n",
       "        1.23585902e-01,  6.62629232e-02, -2.80365705e-01, -7.49665275e-02,\n",
       "       -3.46112370e-01,  1.28123403e-01, -1.05686784e-01, -1.52869150e-01,\n",
       "        3.26474398e-01, -3.03583778e-02,  4.41349521e-02, -1.16011187e-01,\n",
       "       -2.18417555e-01,  1.32576242e-01,  1.03211656e-01, -9.22670811e-02,\n",
       "       -1.17311262e-01,  8.12707469e-02,  2.43868046e-02, -1.62784413e-01,\n",
       "        6.75739050e-02, -2.70347390e-02, -8.14669952e-02, -2.20253039e-02,\n",
       "        4.40792628e-02, -1.20075457e-01,  2.07828224e-01, -5.13241515e-02,\n",
       "       -3.82759839e-01, -1.54636875e-01,  7.55783617e-02,  5.01910627e-01,\n",
       "        4.43485767e-01, -1.62032276e-01,  1.69615328e-01,  7.79703856e-02,\n",
       "       -2.58466154e-01, -1.94144875e-01, -1.51659608e-01, -2.11655715e-04,\n",
       "        9.04029906e-02,  1.57869592e-01,  3.12865704e-01,  3.62525433e-02,\n",
       "       -1.40930817e-01,  9.39081833e-02, -1.79809257e-01,  3.66988988e-03,\n",
       "        1.10881597e-01, -5.70841618e-02, -7.86532015e-02, -7.17253238e-02,\n",
       "       -2.20202997e-01, -1.18448928e-01,  4.87970054e-01, -1.08752787e-01,\n",
       "       -2.07501709e-01,  1.67076841e-01, -2.78608538e-02, -1.72039587e-02,\n",
       "       -8.63732421e-04,  2.41223440e-01,  6.63357452e-02,  1.50481880e-01,\n",
       "       -3.62571269e-01, -4.60888520e-02,  6.99247718e-02,  1.49342760e-01,\n",
       "       -1.59033105e-01,  1.64117813e-02, -1.04435235e-01,  7.94758499e-02,\n",
       "        1.77941695e-01, -2.32489333e-02,  2.14792937e-01,  3.11984494e-02,\n",
       "        2.06080139e-01,  2.61007458e-01,  1.36985490e-02,  2.14403063e-01,\n",
       "       -7.14590102e-02, -3.35858092e-02,  2.15973377e-01, -1.37553662e-01,\n",
       "        1.36192679e-01,  6.38677701e-02,  3.28857273e-01,  8.15166682e-02,\n",
       "        1.48049250e-01,  1.90318242e-01, -3.48576337e-01,  4.68119420e-03,\n",
       "        9.47796404e-02, -1.73858508e-01,  1.71948597e-01, -1.35025894e-02,\n",
       "       -1.08229861e-01,  6.61162362e-02,  4.73265141e-01, -2.74080366e-01,\n",
       "       -1.01945072e-01, -2.70347726e-02, -1.46694839e-01, -2.45867241e-02,\n",
       "        1.42493039e-01, -1.57070041e-01, -1.59850657e-01,  1.27268821e-01,\n",
       "       -6.96837902e-02,  7.88866878e-02, -1.78068846e-01,  3.41778427e-01,\n",
       "        4.02563997e-02,  2.18474433e-01, -1.10701337e-01,  6.57115877e-02,\n",
       "       -1.06204785e-02,  1.16878361e-01,  1.50926262e-01, -2.12721542e-01,\n",
       "       -1.79196924e-01, -2.64429063e-01,  1.13265917e-01,  1.66840274e-02,\n",
       "       -1.16856642e-01, -1.01879165e-01,  1.56547762e-02, -3.09544727e-02,\n",
       "        2.19617277e-01, -6.88204169e-02,  2.03193501e-02, -9.55143794e-02,\n",
       "       -1.32528797e-01,  4.55776602e-01, -3.62693667e-01,  1.81997325e-02,\n",
       "       -8.98333713e-02, -3.88493091e-01,  5.99243045e-02, -3.00192311e-02,\n",
       "       -5.71704432e-02, -5.91900833e-02, -6.25938363e-03,  7.38346577e-03,\n",
       "        1.44361518e-03,  2.47144103e-01,  1.83199137e-01,  1.11892641e-01,\n",
       "       -1.37491981e-02, -3.70350704e-02,  4.45154719e-02, -2.05133423e-01,\n",
       "        1.35763928e-01, -6.76022023e-02, -2.23182049e-02, -2.45827958e-01,\n",
       "       -2.90413406e-02,  1.59750283e-01, -4.34234031e-02,  1.18566297e-01,\n",
       "       -1.14659406e-03,  1.03825785e-01,  7.95171857e-02, -1.34305045e-01,\n",
       "        7.20528960e-02, -1.51669979e-02,  2.07730979e-02, -6.06657229e-02,\n",
       "       -5.55474311e-02, -9.23186690e-02,  7.41985589e-02,  2.64297038e-01,\n",
       "       -1.40410721e-01, -1.79518357e-01, -9.99647472e-03,  9.11025256e-02,\n",
       "       -2.75577493e-02, -7.79774636e-02, -1.11292511e-01, -4.65974957e-02,\n",
       "       -6.40568733e-02,  1.22681186e-01,  6.87796921e-02, -3.93317074e-01,\n",
       "       -8.16537589e-02, -9.72258896e-02, -1.08200766e-01, -2.88257003e-01,\n",
       "       -3.36335272e-01, -1.27315402e-01, -8.13832730e-02,  1.30578905e-01,\n",
       "       -7.04377592e-02,  1.83203265e-01, -1.68999419e-01, -3.93562049e-01,\n",
       "        3.00897956e-01,  1.05189748e-01, -6.75869510e-02,  4.69113514e-02,\n",
       "       -7.07359693e-04,  2.95804702e-02, -2.27829125e-02,  2.07288414e-01,\n",
       "       -7.58273676e-02,  4.10359632e-03, -5.17137423e-02,  2.44297199e-02,\n",
       "        1.99786618e-01,  1.11299559e-01,  1.24902330e-01, -1.32167399e-01,\n",
       "       -1.22876234e-01, -2.32779324e-01, -9.57152173e-02, -3.52815002e-01,\n",
       "        1.94839478e-01,  4.05336022e-02, -1.32170573e-01, -2.89742917e-01,\n",
       "       -1.15691155e-01, -2.50569195e-01, -1.00396082e-01,  1.55669376e-01,\n",
       "        1.43733472e-01, -1.56576931e-01,  4.50920314e-01, -9.51310992e-02,\n",
       "        1.74992546e-01,  1.80802450e-01,  9.99665782e-02, -1.49910808e-01,\n",
       "        1.06626794e-01,  5.36100715e-02,  1.99763402e-02,  1.78579003e-01,\n",
       "        8.94732922e-02,  2.62400091e-01,  7.64987320e-02, -3.00284922e-01,\n",
       "       -1.08808428e-01,  1.02908708e-01,  4.72144149e-02, -1.43523470e-01,\n",
       "        8.25906247e-02,  1.65030807e-01,  1.11094795e-01, -1.85117081e-01,\n",
       "        1.48324436e-02,  4.01147872e-01, -8.41707438e-02,  1.79050967e-01],\n",
       "      dtype=float32)"
      ]
     },
     "metadata": {},
     "execution_count": 103
    }
   ],
   "source": [
    "\"\"\"\n",
    "유저 선호도 벡터 확인\n",
    "\"\"\"\n",
    "\n",
    "Hyunjae_vector"
   ]
  },
  {
   "cell_type": "code",
   "execution_count": 104,
   "metadata": {},
   "outputs": [
    {
     "output_type": "execute_result",
     "data": {
      "text/plain": [
       "array([ 4.23234440e-02,  8.11307225e-03, -4.62427549e-02,  2.57506985e-02,\n",
       "       -1.25726331e-02, -2.09590830e-02,  3.23799588e-02, -3.87986936e-02,\n",
       "        8.62335553e-04,  2.09174100e-02, -4.32901718e-02,  3.03781964e-02,\n",
       "       -2.87155975e-02, -2.42394786e-02,  3.10388729e-02,  6.98409006e-02,\n",
       "        1.39519749e-02, -2.52440735e-03,  1.57466121e-02, -4.40866221e-03,\n",
       "       -1.75358616e-02,  2.49518771e-02, -2.05981452e-02, -2.94265188e-02,\n",
       "        6.99850544e-02, -1.28746987e-03, -2.52264347e-02, -1.67898124e-03,\n",
       "        1.63997151e-02,  3.89725971e-03,  1.79337431e-02, -3.28793973e-02,\n",
       "       -8.74039903e-03, -9.83527279e-04,  4.82889712e-02, -1.97006315e-02,\n",
       "        2.67520621e-02, -2.44709048e-02, -9.46190767e-03,  8.57481640e-03,\n",
       "        3.68918404e-02,  1.58101153e-02,  4.19101529e-02, -7.25955470e-03,\n",
       "        2.32045408e-02,  8.28380231e-03,  2.29266845e-02,  2.81514097e-02,\n",
       "       -1.20722838e-02,  3.24659832e-02,  1.99031606e-02,  2.61460133e-02,\n",
       "       -2.77822223e-02, -1.39662512e-02, -1.51557736e-02,  5.06846197e-02,\n",
       "       -2.05540806e-02, -3.35908332e-03, -2.75823418e-02,  2.37062871e-02,\n",
       "        7.66313914e-03, -4.60902192e-02, -8.14787112e-04,  4.74051163e-02,\n",
       "        3.51692960e-02,  3.71287465e-02, -1.15753170e-02,  3.20643745e-02,\n",
       "        1.18891038e-02, -4.05827127e-02,  2.10695341e-02, -3.03510930e-02,\n",
       "        1.44610563e-02,  2.41060611e-02, -1.62031595e-02,  1.00158732e-02,\n",
       "        2.08605956e-02, -9.53263603e-04,  2.58628651e-02,  2.10164338e-02,\n",
       "       -2.24833656e-02,  4.11564931e-02,  4.13146168e-02, -7.04396935e-03,\n",
       "        2.32181456e-02,  4.19809185e-02, -2.31746621e-02, -3.47359143e-02,\n",
       "        4.37576585e-02, -4.80608409e-03, -1.95954703e-02,  2.67773960e-02,\n",
       "        2.85591073e-02,  3.54579724e-02, -6.70400308e-03, -4.01801653e-02,\n",
       "        2.87283910e-03, -1.27512971e-02, -8.53746384e-03,  3.09585035e-02,\n",
       "       -7.65004428e-03, -2.25129649e-02, -3.10256388e-02, -2.93557458e-02,\n",
       "       -8.51701293e-03, -2.25827321e-02, -1.76824778e-02,  1.64173823e-02,\n",
       "        2.07104888e-02,  1.96845625e-02, -1.36709642e-02, -2.19041295e-02,\n",
       "        2.04997323e-02,  5.14562875e-02, -1.01163071e-02, -1.48640806e-02,\n",
       "       -1.69250071e-02,  1.22255767e-02,  1.15192784e-02,  1.03888474e-02,\n",
       "        1.17909643e-04,  9.82888974e-03,  9.79482662e-03,  8.01914185e-03,\n",
       "        5.64897107e-03, -3.08970585e-02,  9.71493311e-03, -6.74966583e-03,\n",
       "        6.04556408e-03, -4.41867039e-02,  5.57352640e-02,  4.83332649e-02,\n",
       "        3.51481549e-02,  2.16742009e-02,  1.33359339e-02, -1.15370490e-02,\n",
       "       -1.98586304e-02, -4.47205908e-04, -2.81646270e-02,  9.18686949e-03,\n",
       "       -1.62077975e-02, -6.19611004e-03, -1.45254182e-02, -8.16172082e-03,\n",
       "       -3.25010121e-02, -3.47019010e-03, -4.28988636e-02,  3.28977257e-02,\n",
       "       -1.27235297e-02,  4.03924361e-02,  3.89709435e-02, -1.02970470e-02,\n",
       "        3.38576846e-02,  3.96589004e-02, -3.34163196e-02,  1.92130823e-02,\n",
       "        6.91977912e-05,  1.74315404e-02, -2.94856187e-02,  1.37502411e-02,\n",
       "       -2.07766779e-02, -9.40161292e-03, -1.61923803e-02, -1.31718144e-02,\n",
       "        2.86693983e-02, -2.99071725e-02,  3.09518212e-03, -1.94459241e-02,\n",
       "        4.53572460e-02,  3.52680236e-02,  1.13382051e-02,  2.52522752e-02,\n",
       "        4.79615629e-02,  2.95994207e-02, -2.43442561e-02,  6.24854937e-02,\n",
       "        3.68758626e-02, -7.57043832e-04, -2.73451512e-03, -1.36518050e-02,\n",
       "       -5.60573861e-03, -1.09521570e-04,  2.11002454e-02,  4.02607676e-03,\n",
       "       -1.53858084e-02,  3.78321670e-02, -3.45115550e-02, -4.65183565e-03,\n",
       "        2.09356155e-02,  5.10558560e-02, -1.00526435e-03, -2.63724029e-02,\n",
       "       -4.06045243e-02,  6.40258268e-02, -1.99053027e-02,  1.91856697e-02,\n",
       "       -3.21869962e-02,  1.17536203e-03,  1.70712769e-02,  3.07876468e-02,\n",
       "       -1.51563510e-02, -1.45963831e-02,  2.95329634e-02,  1.72552988e-02,\n",
       "        1.24023445e-02, -1.11211529e-02,  1.67533401e-02, -1.52631477e-02,\n",
       "        3.54127435e-04, -6.34844601e-03,  2.58103237e-02, -5.41801425e-03,\n",
       "       -1.06603582e-03,  2.18078890e-03,  1.29894083e-02, -3.01838177e-03,\n",
       "        4.88985404e-02,  2.50241570e-02,  8.32532905e-03,  3.82745825e-02,\n",
       "       -8.61265417e-03,  2.07075660e-04,  1.76809821e-02, -1.28262071e-02,\n",
       "       -9.73226689e-03,  2.13098805e-02,  1.10526783e-02,  5.13735637e-02,\n",
       "        5.71720600e-02,  1.03670417e-03,  1.99447200e-02,  2.78293937e-02,\n",
       "       -2.13350654e-02, -3.83977517e-02, -3.64602283e-02,  4.71837632e-02,\n",
       "       -3.05767404e-03,  9.53160971e-03,  3.77583280e-02,  6.96263788e-03,\n",
       "        2.17112191e-02,  5.03644533e-03, -1.16025028e-03,  3.92604917e-02,\n",
       "        3.16103473e-02,  4.31342460e-02, -1.43089294e-02, -1.71716865e-02,\n",
       "        2.45667044e-02,  1.05236899e-02, -3.33249918e-03, -3.85815427e-02,\n",
       "       -1.87785383e-02,  2.10154969e-02, -1.25806127e-02,  5.08333510e-03,\n",
       "        1.72104910e-02,  2.47073509e-02, -1.03819631e-02, -6.08233875e-03,\n",
       "       -2.66849482e-03,  2.25409064e-02,  1.57106426e-02, -8.65790714e-03,\n",
       "        1.52531662e-03,  1.02490035e-03, -2.08192095e-02, -1.62194669e-02,\n",
       "        2.28845328e-02,  2.54676789e-02, -2.37801000e-02,  2.06006155e-03,\n",
       "       -1.07157007e-02, -2.24906355e-02,  3.60674076e-02, -2.89864726e-02,\n",
       "       -1.51377376e-02,  1.02372216e-02, -3.22713815e-02,  3.98950502e-02,\n",
       "        2.53460500e-02, -1.43524576e-02,  8.86223931e-03,  2.42896820e-03,\n",
       "       -1.87951270e-02, -2.02695299e-02,  2.19995622e-02,  3.98147516e-02,\n",
       "        4.01883833e-02,  3.88841820e-03,  2.15266980e-02, -3.38955154e-03,\n",
       "       -1.38513669e-02,  1.71572454e-02, -5.49046183e-03, -3.08473851e-03,\n",
       "        4.83416803e-02, -1.20712835e-02, -1.78504847e-02,  1.78881492e-02,\n",
       "       -4.67846468e-02, -1.98962316e-02,  5.73410168e-02,  1.71978923e-03,\n",
       "       -2.44466309e-02,  2.96802800e-02, -7.69759249e-03, -5.51976170e-03,\n",
       "       -2.47887801e-02,  6.96536480e-03,  1.07989777e-02,  2.12571621e-02,\n",
       "        7.24098552e-03, -4.38246550e-03,  4.22530212e-02,  1.26820607e-02,\n",
       "        1.00212684e-02,  1.87733937e-02,  2.05291156e-02,  1.68426912e-02,\n",
       "       -3.68960947e-02, -2.66254377e-02,  4.99187298e-02,  2.02032775e-02,\n",
       "        1.14796227e-02,  5.22192083e-02, -2.66376864e-02,  2.65063792e-02,\n",
       "        1.91292688e-02,  9.59814806e-03,  5.54762371e-02, -2.94633564e-02,\n",
       "        4.53847870e-02,  2.93076672e-02,  2.45701671e-02,  2.23528091e-02,\n",
       "        3.56955826e-02,  1.89467985e-02, -1.32607669e-02,  7.18099345e-03,\n",
       "       -5.42528648e-03,  9.76565480e-03,  2.21775360e-02,  1.83274858e-02,\n",
       "       -1.76519509e-02,  7.69065041e-03,  3.18317413e-02,  4.25197072e-02,\n",
       "       -2.21274737e-02,  1.11623062e-02,  1.20308353e-02,  7.43431505e-03,\n",
       "        3.27453092e-02,  2.38710269e-02, -2.34135091e-02,  2.98340656e-02,\n",
       "        3.54739069e-03, -1.27469674e-02, -2.57664709e-03,  3.19200708e-03,\n",
       "        3.69903557e-02,  4.71172631e-02, -4.84651737e-02, -5.97965159e-03,\n",
       "        1.71555746e-02,  1.54237086e-02, -6.45128544e-03, -1.05119739e-02,\n",
       "        4.27664518e-02, -2.96152662e-02,  5.87175274e-03, -2.40344772e-04,\n",
       "       -2.56420560e-02,  3.06110568e-02, -1.05253281e-02, -4.42601333e-04,\n",
       "       -2.04854328e-02, -3.64900306e-02, -4.49636504e-02, -2.09302735e-03,\n",
       "        3.84343006e-02,  4.76890877e-02, -2.38573994e-03, -5.73381269e-03,\n",
       "        4.85870754e-03, -1.74422488e-02,  1.70897059e-02,  3.53574641e-02,\n",
       "       -8.15453753e-03, -4.84843599e-03, -1.48501908e-02,  5.41188894e-03,\n",
       "       -1.49734942e-02,  1.93880890e-02, -2.02276707e-02,  1.11524286e-02,\n",
       "       -1.83096826e-02,  2.10932065e-02,  1.31581286e-02,  1.98380463e-02,\n",
       "       -5.03015257e-02, -3.65151986e-02,  1.99074880e-03, -4.54160348e-02,\n",
       "       -3.73474977e-05,  5.77860139e-03,  2.49094591e-02,  4.48733978e-02,\n",
       "        2.97153145e-02,  5.05473912e-02, -7.28173368e-03, -4.39041033e-02,\n",
       "        2.08101403e-02,  2.18184991e-03,  4.33815122e-02,  1.95350535e-02,\n",
       "       -2.70736385e-02, -3.10202632e-02,  4.34366957e-04, -3.06791114e-03,\n",
       "        1.61234662e-02,  3.27888951e-02, -4.70920699e-03,  3.92529592e-02,\n",
       "        1.04409503e-02, -3.77497599e-02,  2.97941491e-02, -8.86240508e-04,\n",
       "        1.10639259e-02, -5.79414982e-03, -6.35330332e-03, -1.02787158e-02,\n",
       "       -1.35240695e-02, -2.58733127e-02,  4.81500551e-02,  4.87980247e-03,\n",
       "       -1.51280062e-02, -3.88697162e-03,  2.15332750e-02, -5.19412628e-04,\n",
       "       -6.88761752e-03, -1.41949346e-02,  1.10415667e-02,  9.36334487e-03,\n",
       "        3.38045917e-02,  2.53962651e-02,  5.19717764e-03, -1.37694925e-02,\n",
       "        1.02877077e-02, -2.19775345e-02, -1.52386073e-02,  6.19565025e-02,\n",
       "       -4.23507206e-02,  6.70095615e-04,  1.26724318e-02,  2.68872324e-02,\n",
       "        2.43013948e-02,  2.57634949e-02, -1.75206438e-02,  6.68459013e-03,\n",
       "        3.10459752e-02,  1.95193570e-02,  1.31663503e-02, -4.41004820e-02,\n",
       "       -2.05822699e-02, -1.20409476e-02, -8.41948017e-03, -1.58271212e-02,\n",
       "       -1.43677015e-02, -2.00443231e-02, -1.15619646e-02, -2.22184863e-02,\n",
       "       -6.92308601e-03,  2.70565990e-02,  2.41993517e-02,  2.23505870e-02,\n",
       "       -1.10930402e-03, -1.64415259e-02,  1.01868827e-02, -4.11597788e-02,\n",
       "        4.09557894e-02,  3.86626050e-02, -1.60667934e-02, -1.01181609e-03,\n",
       "        2.63258014e-02,  1.14409514e-02,  2.19748337e-02, -1.08269323e-02,\n",
       "       -1.97636317e-02, -2.21380796e-02,  1.62984319e-02, -4.24826443e-02,\n",
       "        3.09332497e-02, -1.64027829e-02,  4.41126935e-02, -4.11307998e-02,\n",
       "        1.41455717e-02,  5.62710650e-02,  1.60263926e-02,  1.04172481e-02],\n",
       "      dtype=float32)"
      ]
     },
     "metadata": {},
     "execution_count": 104
    }
   ],
   "source": [
    "\"\"\"\n",
    "영화 선호도 벡터 생성 (유저가 처음에 입력한 선호하는 5가지 영화 중 하나)\n",
    "\"\"\"\n",
    "\n",
    "God_Father_2_vector"
   ]
  },
  {
   "cell_type": "code",
   "execution_count": 105,
   "metadata": {},
   "outputs": [
    {
     "output_type": "execute_result",
     "data": {
      "text/plain": [
       "0.8877243"
      ]
     },
     "metadata": {},
     "execution_count": 105
    }
   ],
   "source": [
    "\"\"\"\n",
    "위 학습된 모델이 유저가 선호하는 영화 'God_Father_2_vector' 에 대한 선호도 예측 결과 확인 ( 유저와 유저가 선호하는 영화 사이 내적 결과로 확인)\n",
    "\"\"\"\n",
    "\n",
    "# 1 이 나와야 할 것 같은데 한참 낮은 수치인 0.55 정도 밖에 안 나올 경우\n",
    "# factors를 늘리거나 iterations를 늘려 다시 학습해 봅시다 !\n",
    "\n",
    "\n",
    "# Hyunjae와 God_Father_2_vector를 내적하는 코드\n",
    "np.dot(Hyunjae_vector, God_Father_2_vector)"
   ]
  },
  {
   "source": [
    "\"\"\"\n",
    "위 학습된 모델이 'Toy Story (1995)' 에 대한 선호도 예측을 어떻게 하는지 결과 확인\n",
    "\"\"\"\n",
    "\n",
    "Toy_Story = title_to_idx['Toy Story (1995)']\n",
    "Toy_Story_vector = als_model.item_factors[Toy_Story]\n",
    "np.dot(Hyunjae_vector, Toy_Story_vector)"
   ],
   "cell_type": "code",
   "metadata": {},
   "execution_count": 106,
   "outputs": [
    {
     "output_type": "execute_result",
     "data": {
      "text/plain": [
       "0.009232141"
      ]
     },
     "metadata": {},
     "execution_count": 106
    }
   ]
  },
  {
   "source": [
    "<br>\n",
    "\n",
    "## 비슷한 영화 찾기 <br>\n",
    "\n",
    "AlternatingLeastSquares 클래스에 구현되어 있는 similar_items 메서드를 통하여 내가 좋아하는 영화와 비슷한 영화를 찾습니다. <br>\n",
    "특정 영화(title)에 대한 다른 영화(title) 유사도를 측정해주는 함수를 생성합니다.\n",
    "\n",
    "<br>"
   ],
   "cell_type": "markdown",
   "metadata": {}
  },
  {
   "cell_type": "code",
   "execution_count": 107,
   "metadata": {},
   "outputs": [
    {
     "output_type": "execute_result",
     "data": {
      "text/plain": [
       "[(380, 0.9999999),\n",
       " (607, 0.4076015),\n",
       " (435, 0.2731476),\n",
       " (3517, 0.23592238),\n",
       " (3011, 0.23027857),\n",
       " (3493, 0.23023464),\n",
       " (3395, 0.22751088),\n",
       " (3601, 0.21939476),\n",
       " (3544, 0.21931629),\n",
       " (3195, 0.21810955),\n",
       " (3499, 0.21760315),\n",
       " (3619, 0.21445867),\n",
       " (3256, 0.21398705),\n",
       " (3268, 0.21392743),\n",
       " (3508, 0.21096604)]"
      ]
     },
     "metadata": {},
     "execution_count": 107
    }
   ],
   "source": [
    "\"\"\"\n",
    "artist_to_idx 로 변환한 데이터를 als_model.similar_items() 로 유사도 출력\n",
    "(아티스트id, 유사도) 형태의 튜플로 반환\n",
    "\"\"\"\n",
    "\n",
    "favorite_movie = 'Godfather: Part II, The (1974)'\n",
    "movie_id = title_to_idx[favorite_movie]\n",
    "similar_movie = als_model.similar_items(movie_id, N=15)\n",
    "similar_movie"
   ]
  },
  {
   "cell_type": "code",
   "execution_count": 108,
   "metadata": {},
   "outputs": [
    {
     "output_type": "execute_result",
     "data": {
      "text/plain": [
       "['Godfather: Part II, The (1974)',\n",
       " 'Godfather, The (1972)',\n",
       " 'Godfather: Part III, The (1990)',\n",
       " 'Paralyzing Fear: The Story of Polio in America, A (1998)',\n",
       " 'Kids of the Round Table (1995)',\n",
       " 'Held Up (2000)',\n",
       " 'Castaway Cowboy, The (1974)',\n",
       " 'Condition Red (1995)',\n",
       " 'Ulysses (Ulisse) (1954)',\n",
       " 'Sticky Fingers of Time, The (1997)',\n",
       " 'Simon Sez (1999)',\n",
       " 'Smoking/No Smoking (1993)',\n",
       " 'Fear, The (1995)',\n",
       " 'Grosse Fatigue (1994)',\n",
       " 'I, Worst of All (Yo, la peor de todas) (1990)']"
      ]
     },
     "metadata": {},
     "execution_count": 108
    }
   ],
   "source": [
    "\"\"\"\n",
    "유사도로 얻은 movie_id 를 idx_to_title 로 변환\n",
    "\"\"\"\n",
    "\n",
    "#title_to_idx 를 뒤집어, index로부터 movie 이름을 얻는 dict를 생성합니다. \n",
    "idx_to_title = {v:k for k,v in title_to_idx.items()}\n",
    "[idx_to_title[i[0]] for i in similar_movie]"
   ]
  },
  {
   "cell_type": "code",
   "execution_count": 109,
   "metadata": {},
   "outputs": [],
   "source": [
    "\"\"\"\n",
    "아티스트 유사도 측정해주는 함수 작성\n",
    "\"\"\"\n",
    "\n",
    "def get_similar_movie(title_name: str):\n",
    "    movie_id = title_to_idx[title_name]\n",
    "    similar_movie = als_model.similar_items(movie_id)\n",
    "    similar_movie = [idx_to_title[i[0]] for i in similar_movie]\n",
    "    return similar_movie"
   ]
  },
  {
   "cell_type": "code",
   "execution_count": 110,
   "metadata": {},
   "outputs": [
    {
     "output_type": "execute_result",
     "data": {
      "text/plain": [
       "['Toy Story (1995)',\n",
       " 'Nobody Loves Me (Keiner liebt mich) (1994)',\n",
       " 'Toy Story 2 (1999)',\n",
       " 'Soft Toilet Seats (1999)',\n",
       " 'Amityville: Dollhouse (1996)',\n",
       " 'Slappy and the Stinkers (1998)',\n",
       " 'Jerry & Tom (1998)',\n",
       " 'Slaughterhouse (1987)',\n",
       " 'Promise, The (Versprechen, Das) (1994)',\n",
       " 'Truce, The (1996)']"
      ]
     },
     "metadata": {},
     "execution_count": 110
    }
   ],
   "source": [
    "\"\"\"\n",
    "유사도 측정 함수 확인\n",
    "\"\"\"\n",
    "\n",
    "get_similar_movie('Toy Story (1995)')"
   ]
  },
  {
   "source": [
    "<br>\n",
    "\n",
    "## 유저에게 영화 추천 <br>\n",
    "\n",
    "AlternatingLeastSquares 클래스에 구현되어 있는 recommend 메서드를 통하여 유저가 좋아할 만한 영화를 추천받습니다. <br>\n",
    "filter_already_liked_items 는 유저가 이미 평가한 아이템은 제외하는 Argument입니다. <br><br>\n",
    "\n",
    "<br>"
   ],
   "cell_type": "markdown",
   "metadata": {}
  },
  {
   "cell_type": "code",
   "execution_count": 111,
   "metadata": {},
   "outputs": [
    {
     "output_type": "execute_result",
     "data": {
      "text/plain": [
       "[(413, 0.24178968),\n",
       " (607, 0.21971671),\n",
       " (1036, 0.18472227),\n",
       " (1092, 0.15333213),\n",
       " (908, 0.15278135),\n",
       " (2386, 0.14476098),\n",
       " (968, 0.13454643),\n",
       " (310, 0.13266572),\n",
       " (435, 0.12553841),\n",
       " (1412, 0.11454725),\n",
       " (332, 0.11103125),\n",
       " (638, 0.10406059),\n",
       " (2532, 0.101990476),\n",
       " (831, 0.10188338),\n",
       " (444, 0.10158767),\n",
       " (1730, 0.10012664),\n",
       " (119, 0.098901756),\n",
       " (48, 0.0952339),\n",
       " (772, 0.09511062),\n",
       " (915, 0.09508675)]"
      ]
     },
     "metadata": {},
     "execution_count": 111
    }
   ],
   "source": [
    "\"\"\"\n",
    "als_model.recomment() 이용하여 \n",
    "유저의 선호에 유사한 영화 출력\n",
    "\"\"\"\n",
    "\n",
    "user = user_to_idx['Hyunjae']\n",
    "\n",
    "# recommend에서는 user*item CSR Matrix를 받습니다.\n",
    "movie_recommended = als_model.recommend(user, csr_data, N=20, filter_already_liked_items=True)\n",
    "movie_recommended"
   ]
  },
  {
   "cell_type": "code",
   "execution_count": 112,
   "metadata": {},
   "outputs": [
    {
     "output_type": "execute_result",
     "data": {
      "text/plain": [
       "['Akira (1988)',\n",
       " 'Godfather, The (1972)',\n",
       " 'Princess Mononoke, The (Mononoke Hime) (1997)',\n",
       " 'Thin Blue Line, The (1988)',\n",
       " 'Metropolis (1926)',\n",
       " 'Stop Making Sense (1984)',\n",
       " 'Last Emperor, The (1987)',\n",
       " 'City of Lost Children, The (1995)',\n",
       " 'Godfather: Part III, The (1990)',\n",
       " 'Right Stuff, The (1983)',\n",
       " 'Moonstruck (1987)',\n",
       " 'Vacation (1983)',\n",
       " 'Manon of the Spring (Manon des sources) (1986)',\n",
       " \"Devil's Advocate, The (1997)\",\n",
       " 'High Fidelity (2000)',\n",
       " 'Replacement Killers, The (1998)',\n",
       " 'Twister (1996)',\n",
       " 'Saving Private Ryan (1998)',\n",
       " 'Rising Sun (1993)',\n",
       " 'eXistenZ (1999)']"
      ]
     },
     "metadata": {},
     "execution_count": 112
    }
   ],
   "source": [
    "\"\"\"\n",
    "추천 확인 : 내가 좋아하는 영화와 비슷한 영화들\n",
    "\"\"\"\n",
    "\n",
    "recommend_movies = [idx_to_title[i[0]] for i in movie_recommended]\n",
    "recommend_movies"
   ]
  },
  {
   "cell_type": "code",
   "execution_count": 119,
   "metadata": {},
   "outputs": [
    {
     "output_type": "execute_result",
     "data": {
      "text/plain": [
       "['Akira (1988)',\n",
       " 'Godfather, The (1972)',\n",
       " 'Princess Mononoke, The (Mononoke Hime) (1997)',\n",
       " 'Thin Blue Line, The (1988)',\n",
       " 'Metropolis (1926)']"
      ]
     },
     "metadata": {},
     "execution_count": 119
    }
   ],
   "source": [
    "\"\"\"\n",
    "내가 가장 좋아한만한 영화 Best 5 추천\n",
    "\"\"\"\n",
    "\n",
    "best_recommend_movies = recommend_movies[0:5]\n",
    "best_recommend_movies"
   ]
  },
  {
   "source": [
    "<br>\n",
    "\n",
    "### 영화 추천 기여도 확인\n",
    "\n",
    "AlternatingLeastSquares 클래스에 구현된 explain 메소드를 사용하면 <br>\n",
    "유저가 기록을 남긴 (선호 movie)데이터 중 이 (movie) 추천에 기여한 정도를 확인할 수 있습니다. <br><br>\n",
    "\n",
    "이 method는 추천한 콘텐츠의 점수에 기여한 다른 콘텐츠와 기여도(합이 콘텐츠의 점수가 됩니다.)를 반환합니다.\n",
    "\n",
    "<br>"
   ],
   "cell_type": "markdown",
   "metadata": {}
  },
  {
   "cell_type": "code",
   "execution_count": 121,
   "metadata": {},
   "outputs": [],
   "source": [
    "\"\"\"\n",
    "als_model.explain() 을 이용하여\n",
    "유저가 입력한 좋아하는 영화 목록 5개 데이터가 이 movie 추천에 기여한 정도 확인\n",
    "\"\"\"\n",
    "\n",
    "Terminator_2 = title_to_idx['Akira (1988)']\n",
    "explain = als_model.explain(user, csr_data, itemid=Terminator_2)"
   ]
  },
  {
   "cell_type": "code",
   "execution_count": 122,
   "metadata": {},
   "outputs": [
    {
     "output_type": "execute_result",
     "data": {
      "text/plain": [
       "[('Ghost in the Shell (Kokaku kidotai) (1995)', 0.27427748967515064),\n",
       " ('Matrix, The (1999)', 0.0019735677318026123),\n",
       " ('Amadeus (1984)', -0.0006642694682218757),\n",
       " ('Godfather: Part II, The (1974)', -0.01663160122604834),\n",
       " ('Koyaanisqatsi (1983)', -0.018475562486057424)]"
      ]
     },
     "metadata": {},
     "execution_count": 122
    }
   ],
   "source": [
    "\"\"\"\n",
    "1순위 추천영화 'Akira (1988)' 에 기여한 영화를 살펴 봅시다.\n",
    "'Ghost in the Shell (Kokaku kidotai) (1995)' 의 기여가 주되고, \n",
    "'Matrix, The (1999)' 의 기여가 약간 있습니다.\n",
    "'Ghost in the Shell (Kokaku kidotai) (1995)' 와 'Matrix, The (1999)' 두 영화 모두 디스토피아적 미래를 배경으로 영화가 진행된다는 점이 공통적이고, \n",
    "'Ghost in the Shell (Kokaku kidotai) (1995)'은 일본 애니메이션으로 제작된 영화입니다.\n",
    "이러한 두 요소가 1순위 영화를 추천하는데 기여한 것으로 생각됩니다.\n",
    "\"\"\"\n",
    "\n",
    "[(idx_to_title[i[0]], i[1]) for i in explain[1]]"
   ]
  }
 ]
}